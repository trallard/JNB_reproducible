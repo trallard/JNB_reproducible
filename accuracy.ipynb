{
 "cells": [
  {
   "cell_type": "code",
   "execution_count": null,
   "metadata": {
    "collapsed": true
   },
   "outputs": [],
   "source": [
    "import sklearn.metrics as sm\n",
    "sm.accuracy_score(y, predictedY)"
   ]
  },
  {
   "cell_type": "markdown",
   "metadata": {},
   "source": [
    "Woow! that is not what we'd ideally like to see. We need to change the class labels,\n",
    "we are not changing any of the classification groups but we are assigning the correct label\n",
    "to each group.\n",
    "\n",
    "For this we use `np.choose()`.\n",
    "\n",
    "NOTE: check that your results match mine or adjust the order of the values\n",
    "in `np.choose()`"
   ]
  },
  {
   "cell_type": "code",
   "execution_count": null,
   "metadata": {
    "collapsed": true
   },
   "outputs": [],
   "source": [
    "# The fix, we convert all the 1s to 0s and 0s to 1s.\n",
    "predY = np.choose(model.labels_, [1, 0, 2]).astype(np.int64)\n",
    "print (model.labels_)\n",
    "print (predY)"
   ]
  },
  {
   "cell_type": "code",
   "execution_count": null,
   "metadata": {
    "collapsed": true
   },
   "outputs": [],
   "source": [
    "## Replotting\n",
    "\n",
    "fig, (ax1, ax2) = plt.subplots(1, 2, figsize = (8, 4), sharey =False)\n",
    "\n",
    "predictedY = np.choose(model.labels_, [1, 0, 2]).astype(np.int64)"
   ]
  },
  {
   "cell_type": "code",
   "execution_count": null,
   "metadata": {
    "collapsed": true
   },
   "outputs": [],
   "source": [
    "#Plot the classifications that we saw earlier between Petal Length and Petal Width\n",
    "\n",
    "ax1.scatter(x['Petal Length'], x['Petal Width'], c=colors[y['Target']], s=20)\n",
    "ax1.set_title('Real classification')\n",
    "\n",
    "# Plot the classifications according to the model\n",
    "ax2.scatter(x['Petal Length'], x['Petal Width'], c=colors[predictedY], s=20)\n",
    "ax2.set_title(\"Model's classification\")\n"
   ]
  },
  {
   "cell_type": "code",
   "execution_count": null,
   "metadata": {
    "collapsed": true
   },
   "outputs": [],
   "source": [
    "## Checking for accuracy\n",
    "sm.accuracy_score(y, predictedY)\n",
    "sm.confusion_matrix(y, predY)"
   ]
  }
 ],
 "metadata": {
  "kernelspec": {
   "display_name": "Python 3",
   "language": "python",
   "name": "python3"
  },
  "language_info": {
   "codemirror_mode": {
    "name": "ipython",
    "version": 3
   },
   "file_extension": ".py",
   "mimetype": "text/x-python",
   "name": "python",
   "nbconvert_exporter": "python",
   "pygments_lexer": "ipython3",
   "version": "3.6.1"
  }
 },
 "nbformat": 4,
 "nbformat_minor": 2
}
